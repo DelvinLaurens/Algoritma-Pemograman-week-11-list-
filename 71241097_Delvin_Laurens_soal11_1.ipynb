{
  "nbformat": 4,
  "nbformat_minor": 0,
  "metadata": {
    "colab": {
      "provenance": []
    },
    "kernelspec": {
      "name": "python3",
      "display_name": "Python 3"
    },
    "language_info": {
      "name": "python"
    }
  },
  "cells": [
    {
      "cell_type": "code",
      "execution_count": 1,
      "metadata": {
        "colab": {
          "base_uri": "https://localhost:8080/"
        },
        "id": "qyGeT01osuR6",
        "outputId": "8f753e66-6136-4e2b-c27b-db2d5223889c"
      },
      "outputs": [
        {
          "output_type": "stream",
          "name": "stdout",
          "text": [
            "[72, 67, 34]\n"
          ]
        }
      ],
      "source": [
        "#Soal 1\n",
        "def angka_terbaik(data):\n",
        "    urutan = sorted(data, reverse=True)\n",
        "    return urutan[:3]\n",
        "\n",
        "print(angka_terbaik([10, 25, 7, 72, 34, 67]))"
      ]
    }
  ]
}