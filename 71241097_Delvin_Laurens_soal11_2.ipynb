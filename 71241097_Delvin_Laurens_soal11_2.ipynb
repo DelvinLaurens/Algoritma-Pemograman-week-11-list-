{
  "nbformat": 4,
  "nbformat_minor": 0,
  "metadata": {
    "colab": {
      "provenance": []
    },
    "kernelspec": {
      "name": "python3",
      "display_name": "Python 3"
    },
    "language_info": {
      "name": "python"
    }
  },
  "cells": [
    {
      "cell_type": "code",
      "execution_count": 4,
      "metadata": {
        "colab": {
          "base_uri": "https://localhost:8080/"
        },
        "id": "Sx1Md7NJuyWh",
        "outputId": "620a3ccf-ec48-4e59-e766-0808f2ba1c87"
      },
      "outputs": [
        {
          "output_type": "stream",
          "name": "stdout",
          "text": [
            "Masukan angka (Ketikkan 'done' jika selesai): 12\n",
            "Masukan angka (Ketikkan 'done' jika selesai): 15\n",
            "Masukan angka (Ketikkan 'done' jika selesai): 23\n",
            "Masukan angka (Ketikkan 'done' jika selesai): done\n",
            "Nilai rata - rata adalah: 16.67\n"
          ]
        }
      ],
      "source": [
        "#soal 2\n",
        "simpan = []\n",
        "while True:\n",
        "    jumlahAngka = input(\"Masukan angka (Ketikkan 'done' jika selesai): \")\n",
        "    if jumlahAngka.lower() == 'done':\n",
        "        break\n",
        "    angka = float(jumlahAngka)\n",
        "    simpan.append(angka)\n",
        "if simpan:\n",
        "    ratarata = sum(simpan) / len(simpan)\n",
        "    print(f'Nilai rata - rata adalah: {round(ratarata,2)}')\n",
        "else:\n",
        "    print(\"Tidak ada bilangan yang dimasukkan\")"
      ]
    }
  ]
}